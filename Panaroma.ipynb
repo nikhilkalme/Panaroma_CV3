{
  "nbformat": 4,
  "nbformat_minor": 0,
  "metadata": {
    "colab": {
      "provenance": []
    },
    "kernelspec": {
      "name": "python3",
      "display_name": "Python 3"
    },
    "language_info": {
      "name": "python"
    }
  },
  "cells": [
    {
      "cell_type": "code",
      "execution_count": null,
      "metadata": {
        "colab": {
          "base_uri": "https://localhost:8080/"
        },
        "id": "wYfxQiWa1cM-",
        "outputId": "32eac852-f90d-4130-c7e7-ecfb286d449f"
      },
      "outputs": [
        {
          "output_type": "execute_result",
          "data": {
            "text/plain": [
              "True"
            ]
          },
          "metadata": {},
          "execution_count": 10
        }
      ],
      "source": [
        "import cv2\n",
        "import numpy as np\n",
        "\n",
        "# Taking input\n",
        "image1 = cv2.imread('S2.jpeg')\n",
        "image2 = cv2.imread('S1.jpeg')\n",
        "\n",
        "#  convert to grayscale\n",
        "gray1 = cv2.cvtColor(image1, cv2.COLOR_BGR2GRAY)\n",
        "gray2 = cv2.cvtColor(image2, cv2.COLOR_BGR2GRAY)\n",
        "\n",
        "# Initialize feature detector\n",
        "detector = cv2.SIFT_create()\n",
        "\n",
        "\n",
        "# Find keypoints and descriptors\n",
        "kp1, des1 = detector.detectAndCompute(gray1, None)\n",
        "kp2, des2 = detector.detectAndCompute(gray2, None)\n",
        "\n",
        "# Create a feature matcher\n",
        "bf = cv2.BFMatcher()\n",
        "\n",
        "# Match features between images\n",
        "matches = bf.knnMatch(des1, des2, k=2)\n",
        "\n",
        "# Apply ratio test to filter matches\n",
        "good_matches = []\n",
        "for m, n in matches:\n",
        "    if m.distance < 0.75 * n.distance:\n",
        "        good_matches.append(m)\n",
        "\n",
        "# Extract matched keypoints\n",
        "src_pts = np.float32([kp1[m.queryIdx].pt for m in good_matches]).reshape(-1, 1, 2)\n",
        "dst_pts = np.float32([kp2[m.trainIdx].pt for m in good_matches]).reshape(-1, 1, 2)\n",
        "\n",
        "# Find the homography matrix\n",
        "#H, _ = cv2.findHomography(src_pts, dst_pts)\n",
        "H, _ = cv2.findHomography(src_pts, dst_pts, cv2.RANSAC, 5.0)\n",
        "\n",
        "# Warp image1 to image2's perspective\n",
        "result = cv2.warpPerspective(image1, H, (image1.shape[1] + image2.shape[1], image1.shape[0]))\n",
        "\n",
        "# Combine both images\n",
        "result[:, 0:image2.shape[1]] = image2\n",
        "\n",
        "# Save the stitched image\n",
        "cv2.imwrite('panoramaS1_S2.jpeg', result)\n"
      ]
    },
    {
      "cell_type": "code",
      "source": [],
      "metadata": {
        "id": "GS6ybADB2Ezt"
      },
      "execution_count": null,
      "outputs": []
    }
  ]
}